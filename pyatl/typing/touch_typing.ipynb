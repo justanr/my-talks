{
 "cells": [
  {
   "cell_type": "code",
   "execution_count": 76,
   "metadata": {
    "slideshow": {
     "slide_type": "skip"
    }
   },
   "outputs": [],
   "source": [
    "class Graph:\n",
    "    pass\n",
    "\n",
    "class User:\n",
    "    pass"
   ]
  },
  {
   "cell_type": "markdown",
   "metadata": {
    "slideshow": {
     "slide_type": "slide"
    }
   },
   "source": [
    "# Touch Typing\n",
    "\n",
    "Alec Reiter | PyAtl  January 2019\n",
    "\n",
    "@just_anr http://justanr.github.io"
   ]
  },
  {
   "cell_type": "markdown",
   "metadata": {
    "slideshow": {
     "slide_type": "slide"
    }
   },
   "source": [
    "## Let's not start a flame war...\n",
    "\n",
    "- Static vs Dynamic\n",
    "- Both have benefits"
   ]
  },
  {
   "cell_type": "markdown",
   "metadata": {
    "slideshow": {
     "slide_type": "slide"
    }
   },
   "source": [
    "## A brief history of Type Annotations\n",
    "\n",
    "* Added in 3.0 (PEP 3107)\n",
    "* Codified in 3.5 (PEP 484)\n",
    "* Extended in 3.6 (PEP 526)"
   ]
  },
  {
   "cell_type": "markdown",
   "metadata": {
    "slideshow": {
     "slide_type": "slide"
    }
   },
   "source": [
    "## Static Typing for Dynamic Python\n",
    "\n",
    "* Gradual\n",
    "* Not checked by interpreter\n",
    "* Preserved at runtime"
   ]
  },
  {
   "cell_type": "markdown",
   "metadata": {
    "slideshow": {
     "slide_type": "slide"
    }
   },
   "source": [
    "## Benefits\n",
    "\n",
    "* Bugs\n",
    "* Refactoring\n",
    "* Documentation\n",
    "* Metaprogramming"
   ]
  },
  {
   "cell_type": "markdown",
   "metadata": {
    "slideshow": {
     "slide_type": "slide"
    }
   },
   "source": [
    "## Drawbacks\n",
    "\n",
    "- Not the most expressive\n",
    "- Verbose\n",
    "- Not Completely 1st Class Yet"
   ]
  },
  {
   "cell_type": "markdown",
   "metadata": {
    "slideshow": {
     "slide_type": "slide"
    }
   },
   "source": [
    "## What's it look like?"
   ]
  },
  {
   "cell_type": "markdown",
   "metadata": {
    "slideshow": {
     "slide_type": "slide"
    }
   },
   "source": [
    "## Function Parameter Types"
   ]
  },
  {
   "cell_type": "code",
   "execution_count": 48,
   "metadata": {
    "slideshow": {
     "slide_type": "-"
    }
   },
   "outputs": [],
   "source": [
    "def wrap_in_parens(a: str, default: str = '') -> str:\n",
    "    return '(' + a.strip() + ')'"
   ]
  },
  {
   "cell_type": "markdown",
   "metadata": {
    "slideshow": {
     "slide_type": "slide"
    }
   },
   "source": [
    "## lambda\n",
    "\n",
    "- `lambda x: x`\n",
    "- Can't type hint lambdas in line"
   ]
  },
  {
   "cell_type": "markdown",
   "metadata": {
    "slideshow": {
     "slide_type": "slide"
    }
   },
   "source": [
    "## Variable Types"
   ]
  },
  {
   "cell_type": "code",
   "execution_count": 83,
   "metadata": {
    "slideshow": {
     "slide_type": "-"
    }
   },
   "outputs": [],
   "source": [
    "a: int\n",
    "a: int = 1\n",
    "a = 1"
   ]
  },
  {
   "cell_type": "markdown",
   "metadata": {
    "slideshow": {
     "slide_type": "slide"
    }
   },
   "source": [
    "## Attribute Types"
   ]
  },
  {
   "cell_type": "code",
   "execution_count": 53,
   "metadata": {
    "slideshow": {
     "slide_type": "-"
    }
   },
   "outputs": [],
   "source": [
    "class Point:\n",
    "    x: int\n",
    "    y: int"
   ]
  },
  {
   "cell_type": "markdown",
   "metadata": {
    "slideshow": {
     "slide_type": "slide"
    }
   },
   "source": [
    "## Collections"
   ]
  },
  {
   "cell_type": "code",
   "execution_count": 54,
   "metadata": {
    "slideshow": {
     "slide_type": "-"
    }
   },
   "outputs": [],
   "source": [
    "def plot_points(points: list) -> Graph:\n",
    "    ..."
   ]
  },
  {
   "cell_type": "markdown",
   "metadata": {
    "slideshow": {
     "slide_type": "slide"
    }
   },
   "source": [
    "## Typing Module"
   ]
  },
  {
   "cell_type": "code",
   "execution_count": 74,
   "metadata": {},
   "outputs": [],
   "source": [
    "import typing as t"
   ]
  },
  {
   "cell_type": "markdown",
   "metadata": {},
   "source": [
    "* Added in 3.5\n",
    "* More complex types\n",
    "* Generics, NewType, Union, and more"
   ]
  },
  {
   "cell_type": "markdown",
   "metadata": {
    "slideshow": {
     "slide_type": "slide"
    }
   },
   "source": [
    "## Collections"
   ]
  },
  {
   "cell_type": "code",
   "execution_count": 55,
   "metadata": {
    "slideshow": {
     "slide_type": "-"
    }
   },
   "outputs": [],
   "source": [
    "def plot_points(points: t.List[Point]) -> Graph:\n",
    "    ..."
   ]
  },
  {
   "cell_type": "markdown",
   "metadata": {
    "slideshow": {
     "slide_type": "slide"
    }
   },
   "source": [
    "## Generics"
   ]
  },
  {
   "cell_type": "code",
   "execution_count": 59,
   "metadata": {
    "slideshow": {
     "slide_type": "-"
    }
   },
   "outputs": [],
   "source": [
    "T = t.TypeVar('T')\n",
    "\n",
    "class SearchResult(t.Generic[T]):\n",
    "    results: t.List[T]\n",
    "    has_more: bool"
   ]
  },
  {
   "cell_type": "markdown",
   "metadata": {
    "slideshow": {
     "slide_type": "slide"
    }
   },
   "source": [
    "## Class Attributes"
   ]
  },
  {
   "cell_type": "code",
   "execution_count": null,
   "metadata": {},
   "outputs": [],
   "source": [
    "class Foo:\n",
    "    x: t.ClassVar[int] = 1"
   ]
  },
  {
   "cell_type": "markdown",
   "metadata": {
    "slideshow": {
     "slide_type": "slide"
    }
   },
   "source": [
    "## Callable Types"
   ]
  },
  {
   "cell_type": "markdown",
   "metadata": {},
   "source": [
    "```python\n",
    "t.Callable[[int, int], int]\n",
    "\n",
    "lambda x: x  # type: t.Callable[[str], str]\n",
    "```"
   ]
  },
  {
   "cell_type": "markdown",
   "metadata": {
    "slideshow": {
     "slide_type": "slide"
    }
   },
   "source": [
    "## Aliases"
   ]
  },
  {
   "cell_type": "code",
   "execution_count": null,
   "metadata": {},
   "outputs": [],
   "source": [
    "Callable[[AbstractConverter, Tuple[type], Dict[str, Any]], FieldABC]"
   ]
  },
  {
   "cell_type": "code",
   "execution_count": null,
   "metadata": {
    "slideshow": {
     "slide_type": "fragment"
    }
   },
   "outputs": [],
   "source": [
    "FieldFactory = Callable[[AbstractConverter, Tuple[type], Dict[str, Any]], FieldABC]"
   ]
  },
  {
   "cell_type": "markdown",
   "metadata": {
    "slideshow": {
     "slide_type": "slide"
    }
   },
   "source": [
    "## Forward References"
   ]
  },
  {
   "cell_type": "code",
   "execution_count": 61,
   "metadata": {
    "slideshow": {
     "slide_type": "-"
    }
   },
   "outputs": [],
   "source": [
    "class LinkedList(t.Generic[T]):\n",
    "    value: T\n",
    "    next: t.Optional['LinkedList[T]']"
   ]
  },
  {
   "cell_type": "markdown",
   "metadata": {
    "slideshow": {
     "slide_type": "slide"
    }
   },
   "source": [
    "## Unions"
   ]
  },
  {
   "cell_type": "code",
   "execution_count": 75,
   "metadata": {},
   "outputs": [
    {
     "data": {
      "text/plain": [
       "typing.Union[int, NoneType]"
      ]
     },
     "execution_count": 75,
     "metadata": {},
     "output_type": "execute_result"
    }
   ],
   "source": [
    "t.Union[int, str]\n",
    "t.Optional[int]"
   ]
  },
  {
   "cell_type": "markdown",
   "metadata": {
    "slideshow": {
     "slide_type": "slide"
    }
   },
   "source": [
    "## New Type"
   ]
  },
  {
   "cell_type": "code",
   "execution_count": 56,
   "metadata": {
    "slideshow": {
     "slide_type": "-"
    }
   },
   "outputs": [],
   "source": [
    "UserId = t.NewType('UserId', int)"
   ]
  },
  {
   "cell_type": "code",
   "execution_count": 57,
   "metadata": {
    "slideshow": {
     "slide_type": "slide"
    }
   },
   "outputs": [],
   "source": [
    "def find_user(id: UserId) -> User:\n",
    "    ..."
   ]
  },
  {
   "cell_type": "markdown",
   "metadata": {
    "slideshow": {
     "slide_type": "-"
    }
   },
   "source": [
    "```python\n",
    "find_user(1)\n",
    "```\n",
    "\n",
    "`Argument 1 to \"find_user\" has incompatible type \"int\"; expected \"UserId\"`"
   ]
  },
  {
   "cell_type": "code",
   "execution_count": 58,
   "metadata": {
    "slideshow": {
     "slide_type": "slide"
    }
   },
   "outputs": [],
   "source": [
    "find_user(UserId(1))"
   ]
  },
  {
   "cell_type": "markdown",
   "metadata": {
    "slideshow": {
     "slide_type": "slide"
    }
   },
   "source": [
    "## Casting"
   ]
  },
  {
   "cell_type": "code",
   "execution_count": 73,
   "metadata": {},
   "outputs": [],
   "source": [
    "l: object = [1]\n",
    "x = t.cast(t.List[int], l)"
   ]
  },
  {
   "cell_type": "markdown",
   "metadata": {
    "slideshow": {
     "slide_type": "slide"
    }
   },
   "source": [
    "## What about Python 2?\n",
    "\n",
    "- Just upgrade"
   ]
  },
  {
   "cell_type": "markdown",
   "metadata": {
    "slideshow": {
     "slide_type": "slide"
    }
   },
   "source": [
    "### Stub Files\n",
    "\n",
    "- \"Header\" files\n",
    "- Python 2 and 3 compat\n",
    "- Add types to untyped modules\n",
    "- Typeshed repo"
   ]
  },
  {
   "cell_type": "code",
   "execution_count": null,
   "metadata": {
    "slideshow": {
     "slide_type": "slide"
    }
   },
   "outputs": [],
   "source": [
    "# unittest.pyi\n",
    "class TestSuite(Testable):\n",
    "    def __init__(self, tests: Iterable[Testable] = None) -> None: ...\n",
    "    def addTest(self, test: Testable) -> None: ...\n",
    "    def addTests(self, tests: Iterable[Testable]) -> None: ...\n",
    "    def run(self, result: TestResult) -> None: ...\n",
    "    def debug(self) -> None: ...\n",
    "    def countTestCases(self) -> int: ..."
   ]
  },
  {
   "cell_type": "markdown",
   "metadata": {
    "slideshow": {
     "slide_type": "slide"
    }
   },
   "source": [
    "## AntiPatterns"
   ]
  },
  {
   "cell_type": "markdown",
   "metadata": {
    "slideshow": {
     "slide_type": "slide"
    }
   },
   "source": [
    "## Not Specific Enough"
   ]
  },
  {
   "cell_type": "code",
   "execution_count": 63,
   "metadata": {},
   "outputs": [],
   "source": [
    "class SearchResults:\n",
    "    results: t.List[object]"
   ]
  },
  {
   "cell_type": "markdown",
   "metadata": {
    "slideshow": {
     "slide_type": "-"
    }
   },
   "source": [
    "- typing.Any, type, object\n",
    "- _Sometimes_ the right types\n",
    "- type -> typing.Type[T]\n",
    "- object -> T"
   ]
  },
  {
   "cell_type": "markdown",
   "metadata": {
    "slideshow": {
     "slide_type": "slide"
    }
   },
   "source": [
    "## Too Specific"
   ]
  },
  {
   "cell_type": "code",
   "execution_count": 66,
   "metadata": {},
   "outputs": [],
   "source": [
    "def add_two(x: int, y: int) -> int:\n",
    "    return x + y"
   ]
  },
  {
   "cell_type": "code",
   "execution_count": 67,
   "metadata": {
    "slideshow": {
     "slide_type": "slide"
    }
   },
   "outputs": [],
   "source": [
    "from typing import TypeVar\n",
    "from decimal import Decimal\n",
    "\n",
    "AnyNum = TypeVar('AnyNum', int, float, complex, Decimal)\n",
    "\n",
    "def add_two(x: AnyNum, y: AnyNum) -> AnyNum:\n",
    "    return x + y"
   ]
  },
  {
   "cell_type": "markdown",
   "metadata": {
    "slideshow": {
     "slide_type": "slide"
    }
   },
   "source": [
    "```\n",
    "add_two(1, 1)\n",
    "add_two(1.1, 1.1)\n",
    "add_two(1j, 1j)\n",
    "add_two(Decimal(1), Decimal(1))\n",
    "```"
   ]
  },
  {
   "cell_type": "code",
   "execution_count": 68,
   "metadata": {
    "slideshow": {
     "slide_type": "slide"
    }
   },
   "outputs": [
    {
     "data": {
      "text/plain": [
       "Decimal('2')"
      ]
     },
     "execution_count": 68,
     "metadata": {},
     "output_type": "execute_result"
    }
   ],
   "source": [
    "add_two(1, Decimal(1))"
   ]
  },
  {
   "cell_type": "markdown",
   "metadata": {},
   "source": [
    "`error: Value of type variable \"AnyNum\" of \"add_two\" cannot be \"object\"`"
   ]
  },
  {
   "cell_type": "markdown",
   "metadata": {
    "slideshow": {
     "slide_type": "slide"
    }
   },
   "source": [
    "## Typing Everything\n",
    "\n",
    "- Inference\n",
    "- Biting off too much at once\n",
    "- _Sometimes_ untyped non-public is more helpful"
   ]
  },
  {
   "cell_type": "markdown",
   "metadata": {
    "slideshow": {
     "slide_type": "slide"
    }
   },
   "source": [
    "## Cool, but it's not enforced at runtime..."
   ]
  },
  {
   "cell_type": "markdown",
   "metadata": {
    "slideshow": {
     "slide_type": "slide"
    }
   },
   "source": [
    "## Enter mypy\n",
    "\n",
    "* Offline type checker\n",
    "* Think \"flake8\" for types\n",
    "* https://mypy.readthedocs.io"
   ]
  },
  {
   "cell_type": "markdown",
   "metadata": {
    "slideshow": {
     "slide_type": "slide"
    }
   },
   "source": [
    "```python\n",
    "wrap_in_parens(1)\n",
    "```\n",
    "\n",
    "`Argument 1 to \"wrap_in_parens\" has incompatible type \"int\"; expected \"str\"`"
   ]
  },
  {
   "cell_type": "markdown",
   "metadata": {
    "slideshow": {
     "slide_type": "slide"
    }
   },
   "source": [
    "## Mypy Pragmas\n",
    "\n",
    "- `# type: int`\n",
    "- `# type: ignore`\n",
    "- `reveal_type`"
   ]
  },
  {
   "cell_type": "markdown",
   "metadata": {
    "slideshow": {
     "slide_type": "slide"
    }
   },
   "source": [
    "### Configuring\n",
    "\n",
    "- tons of settings\n",
    "- cli arguments\n",
    "- mypy.ini"
   ]
  },
  {
   "cell_type": "markdown",
   "metadata": {
    "slideshow": {
     "slide_type": "slide"
    }
   },
   "source": [
    "### Example\n",
    "\n",
    "```\n",
    "[mypy]\n",
    "\n",
    "ignore_missing_imports = False\n",
    "show_column_numbers = True\n",
    "show_error_context = False\n",
    "follow_imports = normal\n",
    "cache_dir = /dev/null\n",
    "disallow_untyped_calls = False\n",
    "warn_return_any = True\n",
    "strict_optional = True\n",
    "warn_no_return = True\n",
    "warn_redundant_casts = True\n",
    "warn_unused_ignores = False\n",
    "disallow_untyped_defs = False\n",
    "check_untyped_defs = True\n",
    "```"
   ]
  },
  {
   "cell_type": "markdown",
   "metadata": {
    "slideshow": {
     "slide_type": "slide"
    }
   },
   "source": [
    "```\n",
    "[mypy-marshmallow.*]\n",
    "ignore_missing_imports = True\n",
    "```"
   ]
  },
  {
   "cell_type": "markdown",
   "metadata": {
    "slideshow": {
     "slide_type": "slide"
    }
   },
   "source": [
    "## As part of your build\n",
    "\n",
    "```\n",
    "# tox.ini\n",
    "[testenv:types]\n",
    "skip_install = false\n",
    "deps = -r{toxinidir}/requirements/requirements-types.txt\n",
    "commands = mypy ./src/marshmallow_annotations\n",
    "```"
   ]
  },
  {
   "cell_type": "markdown",
   "metadata": {
    "slideshow": {
     "slide_type": "slide"
    }
   },
   "source": [
    "```\n",
    "# .travis.yml\n",
    "\n",
    "matrix:\n",
    "  include:\n",
    "    - python: 3.6\n",
    "      env: TOXENV=types\n",
    "```"
   ]
  },
  {
   "cell_type": "markdown",
   "metadata": {
    "slideshow": {
     "slide_type": "slide"
    }
   },
   "source": [
    "# Using Types Programatically"
   ]
  },
  {
   "cell_type": "markdown",
   "metadata": {
    "slideshow": {
     "slide_type": "slide"
    }
   },
   "source": [
    "## Lots of things we can do\n",
    "\n",
    "- Serialization Formats\n",
    "- Code Generation\n",
    "- Dependency Injection\n",
    "- Documentation"
   ]
  },
  {
   "cell_type": "markdown",
   "metadata": {
    "slideshow": {
     "slide_type": "slide"
    }
   },
   "source": [
    "## Your new best friend"
   ]
  },
  {
   "cell_type": "code",
   "execution_count": 70,
   "metadata": {},
   "outputs": [
    {
     "data": {
      "text/plain": [
       "{'x': int, 'y': int}"
      ]
     },
     "execution_count": 70,
     "metadata": {},
     "output_type": "execute_result"
    }
   ],
   "source": [
    "t.get_type_hints(Point)"
   ]
  },
  {
   "cell_type": "markdown",
   "metadata": {
    "slideshow": {
     "slide_type": "slide"
    }
   },
   "source": [
    "### Injector\n",
    "\n",
    "- IoC Container\n",
    "- Type hints"
   ]
  },
  {
   "cell_type": "code",
   "execution_count": null,
   "metadata": {
    "slideshow": {
     "slide_type": "slide"
    }
   },
   "outputs": [],
   "source": [
    "from injector import inject\n",
    "from myapp.database import Connection\n",
    "\n",
    "class UserService:\n",
    "    @inject\n",
    "    def __init__(self, conn: Connection) -> None:\n",
    "        self.conn = conn"
   ]
  },
  {
   "cell_type": "code",
   "execution_count": null,
   "metadata": {
    "slideshow": {
     "slide_type": "slide"
    }
   },
   "outputs": [],
   "source": [
    "from injector import Module, provider\n",
    "from myapp.database import Connection\n",
    "from myapp.users import UserService\n",
    "\n",
    "class AppModule(Module):\n",
    "    @provider\n",
    "    def get_connection() -> Connection:\n",
    "        return Connection(...)\n",
    "    \n",
    "    def configure(self, binder) -> None:\n",
    "        binder.bind(UserService)"
   ]
  },
  {
   "cell_type": "code",
   "execution_count": null,
   "metadata": {
    "slideshow": {
     "slide_type": "slide"
    }
   },
   "outputs": [],
   "source": [
    "from injector import Injector\n",
    "from myapp.ioc import AppModule\n",
    "\n",
    "ioc = Injector([AppModule()])\n",
    "ioc.get(UserService)"
   ]
  },
  {
   "cell_type": "markdown",
   "metadata": {
    "slideshow": {
     "slide_type": "slide"
    }
   },
   "source": [
    "## Code Generation\n",
    "\n",
    "- Tedious `__init__`\n",
    "- Not interesting\n",
    "- Just generate it"
   ]
  },
  {
   "cell_type": "code",
   "execution_count": 29,
   "metadata": {
    "slideshow": {
     "slide_type": "slide"
    }
   },
   "outputs": [
    {
     "data": {
      "text/plain": [
       "Foo(a=1, b=2.0, c='yep')"
      ]
     },
     "execution_count": 29,
     "metadata": {},
     "output_type": "execute_result"
    }
   ],
   "source": [
    "from dataclasses import dataclass\n",
    "\n",
    "@dataclass\n",
    "class Foo:\n",
    "    a: int\n",
    "    b: float\n",
    "    c: str = 'yep'\n",
    "        \n",
    "Foo(1, 2.0)"
   ]
  },
  {
   "cell_type": "markdown",
   "metadata": {
    "slideshow": {
     "slide_type": "slide"
    }
   },
   "source": [
    "## More complicated\n",
    "\n",
    "- Post Init\n",
    "- non-static defaults\n",
    "- non-attribute init\n",
    "- ordering"
   ]
  },
  {
   "cell_type": "markdown",
   "metadata": {
    "slideshow": {
     "slide_type": "slide"
    }
   },
   "source": [
    "### Serialization Formats\n",
    "\n",
    "- Issue: Entities and JSON\n",
    "- Write everything twice?\n",
    "- Nah"
   ]
  },
  {
   "cell_type": "code",
   "execution_count": null,
   "metadata": {
    "slideshow": {
     "slide_type": "slide"
    }
   },
   "outputs": [],
   "source": [
    "@dataclass\n",
    "class Artist:\n",
    "    id: int\n",
    "    name: str\n",
    "    albums: t.List['Album'] = field(default_factory=list)"
   ]
  },
  {
   "cell_type": "code",
   "execution_count": null,
   "metadata": {
    "slideshow": {
     "slide_type": "slide"
    }
   },
   "outputs": [],
   "source": [
    "class ArtistScheme(Schema):\n",
    "    id = fields.Integer(required=True, allow_none=False)\n",
    "    name = fields.String(required=True, allow_none=False)\n",
    "    albums = fields.Nested('AlbumScheme', many=True, required=True, allow_none=False)"
   ]
  },
  {
   "cell_type": "code",
   "execution_count": null,
   "metadata": {
    "slideshow": {
     "slide_type": "slide"
    }
   },
   "outputs": [],
   "source": [
    "from marshmallow_annotations import AnnotationSchema\n",
    "from .music import Artist\n",
    "\n",
    "class ArtistScheme(AnnotationSchema):\n",
    "    class Meta:\n",
    "        target = Artist\n",
    "        register_as_scheme = True"
   ]
  },
  {
   "cell_type": "markdown",
   "metadata": {
    "slideshow": {
     "slide_type": "slide"
    }
   },
   "source": [
    "### Documentation\n",
    "\n",
    "`pip install --user sphinx-autodoc-annotation`"
   ]
  },
  {
   "cell_type": "code",
   "execution_count": 80,
   "metadata": {},
   "outputs": [],
   "source": [
    "# conf.py\n",
    "\n",
    "extensions = [\"sphinx_autodoc_annotation\", ...]"
   ]
  },
  {
   "cell_type": "code",
   "execution_count": null,
   "metadata": {
    "slideshow": {
     "slide_type": "slide"
    }
   },
   "outputs": [],
   "source": [
    "def register_field_for_type(self, target: type, field: FieldABC) -> None:\n",
    "    ..."
   ]
  },
  {
   "cell_type": "markdown",
   "metadata": {},
   "source": [
    "```\n",
    "register_field_for_type(target: type, field: marshmallow.base.FieldABC) → None\n",
    "```"
   ]
  },
  {
   "cell_type": "markdown",
   "metadata": {
    "slideshow": {
     "slide_type": "slide"
    }
   },
   "source": [
    "## Don't fear the types\n",
    "\n",
    "- Useful\n",
    "- Somewhat intrusive\n",
    "- Still dynamic"
   ]
  },
  {
   "cell_type": "markdown",
   "metadata": {
    "slideshow": {
     "slide_type": "slide"
    }
   },
   "source": [
    "# Questions?"
   ]
  }
 ],
 "metadata": {
  "kernelspec": {
   "display_name": "Python 3",
   "language": "python",
   "name": "python3"
  },
  "language_info": {
   "codemirror_mode": {
    "name": "ipython",
    "version": 3
   },
   "file_extension": ".py",
   "mimetype": "text/x-python",
   "name": "python",
   "nbconvert_exporter": "python",
   "pygments_lexer": "ipython3",
   "version": "3.7.0"
  }
 },
 "nbformat": 4,
 "nbformat_minor": 2
}
